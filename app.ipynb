{
 "cells": [
  {
   "cell_type": "code",
   "execution_count": null,
   "metadata": {},
   "outputs": [],
   "source": [
    "import os\n",
    "import numpy as np\n",
    "import pandas as pd\n",
    "from flask import Flask, render_template, request, redirect\n",
    "import matplotlib\n",
    "import matplotlib.pyplot as plt\n",
    "import sklearn.cross_validation\n",
    "import requests\n",
    "from fbprophet import Prophet\n",
    "import datetime\n",
    "from pandas.tseries.holiday import USFederalHolidayCalendar\n",
    "\n",
    "import bokeh\n",
    "from bokeh.plotting import figure\n",
    "from bokeh.io import show,output_notebook\n",
    "from bokeh.embed import components\n",
    "from bokeh.models import HoverTool\n",
    "bv = bokeh.__version__"
   ]
  },
  {
   "cell_type": "code",
   "execution_count": null,
   "metadata": {
    "collapsed": true
   },
   "outputs": [],
   "source": [
    "app = Flask(__name__)\n",
    "app.vars={}"
   ]
  },
  {
   "cell_type": "code",
   "execution_count": null,
   "metadata": {
    "collapsed": true
   },
   "outputs": [],
   "source": [
    "@app.route('/')\n",
    "def main():\n",
    "    return redirect('/index')"
   ]
  },
  {
   "cell_type": "code",
   "execution_count": null,
   "metadata": {
    "collapsed": true
   },
   "outputs": [],
   "source": [
    "@app.route('/index',methods=['GET','POST'])\n",
    "def index():\n",
    "    if request.method == 'GET':\n",
    "        return render_template('index.html')\n",
    "    else:\n",
    "        app.vars['start_date'] = request.form['start_date']\n",
    "        return redirect('/graph')"
   ]
  },
  {
   "cell_type": "code",
   "execution_count": null,
   "metadata": {
    "collapsed": true
   },
   "outputs": [],
   "source": [
    "@app.route('/graph', methods=['GET', 'POST'])\n",
    "def graph():\n",
    "    #get data from local store_info.csv\n",
    "    raw_df = pd.read_csv('store_info.csv')\n",
    "    raw_df['date'] = raw_df['date'].apply(lambda x: datetime.datetime.strptime(x, '%Y-%m-%d'))\n",
    "    start_date = datetime.datetime.strptime(app.vars['start_date'],'%Y-%m-%d')\n",
    "    df = raw_df[raw_df['date'] < start_date]\n",
    "\n",
    "    #create holiday calendar for prophet\n",
    "    cal = USFederalHolidayCalendar()\n",
    "    holidays = cal.holidays(start='2014-01-31', end='2015-12-09').to_pydatetime()\n",
    "    holiday = pd.DataFrame(holidays)\n",
    "    holiday.columns = ['ds']\n",
    "    holiday['holiday'] = np.array('federal_holiday')\n",
    "    \n",
    "    \n",
    "    #predict using prophet and plot graphs\n",
    "    def prophet_predict(df,start_date=start_date):\n",
    "        df.columns = ['ds','y']\n",
    "        model = Prophet(interval_width = 0.80, holidays = holiday,yearly_seasonality=True, daily_seasonality=True )\n",
    "        model.fit(df)\n",
    "        future_dates = model.make_future_dataframe(periods = 14)\n",
    "        forecast = model.predict(future_dates)\n",
    "        pred = forecast[['ds','yhat']]\n",
    "        pred.columns = ['date','prediction']\n",
    "        mask = pred['date'] > start_date\n",
    "        new_pred = pred.loc[mask]\n",
    "        return new_pred\n",
    "    \n",
    "\n",
    "    def bokeh_plot(pred,item,color):\n",
    "        hover = HoverTool(tooltips = [(\"Value\", \"$y{int}\")],  mode='vline')\n",
    "        tools = [hover]\n",
    "        p = figure(plot_width=800, plot_height=500,\n",
    "               title=\"Two-Week Projection for {} start from {}\".format(item, app.vars['start_date']), x_axis_type=\"datetime\",tools=tools)\n",
    "        p.line(pred['date'], pred['prediction'], line_width=3,\n",
    "               line_color=color, legend=item)\n",
    "        p.xaxis.axis_label = \"Date\"\n",
    "        p.yaxis.axis_label = \"Projection\"\n",
    "        p.xaxis.axis_label_text_font_style = 'bold'\n",
    "        p.yaxis.axis_label_text_font_style = 'bold'\n",
    "        p.xaxis.bounds = (pred.date.iloc[-1], pred.date.iloc[0])\n",
    "        script, div = components(p)\n",
    "        return script, div\n",
    "\n",
    "\n",
    "    sales_df = df[['date','Net_Sales']]\n",
    "    pred = prophet_predict(sales_df)\n",
    "    script_sales, div_sales = bokeh_plot(pred,'Net Sales',\"#658b33\")\n",
    "        \n",
    "\n",
    "    trans_df = df[['date','Trans']]\n",
    "    pred = prophet_predict(trans_df)\n",
    "    script_trans, div_trans = bokeh_plot(pred,'Transactions',\"#949150\")\n",
    "        \n",
    "\n",
    "    Visits_df = df[['date','Visits']]\n",
    "    pred = prophet_predict(Visits_df)\n",
    "    script_visits, div_visits = bokeh_plot(pred,'Visits',\"#dbc69d\")\n",
    "\n",
    "    return render_template('graph.html', bv=bv, period=app.vars['start_date'], \n",
    "                           script_sales=script_sales, div_sales=div_sales,\n",
    "                           script_trans=script_trans, div_trans=div_trans,\n",
    "                           script_visits=script_visits,div_visits=div_visits\n",
    "                          )"
   ]
  },
  {
   "cell_type": "code",
   "execution_count": null,
   "metadata": {},
   "outputs": [],
   "source": [
    "if __name__ == '__main__':\n",
    "    \n",
    "    #run the app\n",
    "    port = int(os.environ.get(\"PORT\", 5000))\n",
    "    app.run(host='0.0.0.0', port=port)"
   ]
  },
  {
   "cell_type": "code",
   "execution_count": null,
   "metadata": {
    "collapsed": true
   },
   "outputs": [],
   "source": []
  }
 ],
 "metadata": {
  "kernelspec": {
   "display_name": "Python 3",
   "language": "python",
   "name": "python3"
  },
  "language_info": {
   "codemirror_mode": {
    "name": "ipython",
    "version": 3
   },
   "file_extension": ".py",
   "mimetype": "text/x-python",
   "name": "python",
   "nbconvert_exporter": "python",
   "pygments_lexer": "ipython3",
   "version": "3.6.1"
  }
 },
 "nbformat": 4,
 "nbformat_minor": 2
}
