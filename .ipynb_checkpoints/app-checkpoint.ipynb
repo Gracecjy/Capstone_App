{
 "cells": [
  {
   "cell_type": "code",
   "execution_count": 1,
   "metadata": {},
   "outputs": [
    {
     "name": "stderr",
     "output_type": "stream",
     "text": [
      "/Users/Chenjiayue/anaconda/lib/python3.6/site-packages/sklearn/cross_validation.py:44: DeprecationWarning: This module was deprecated in version 0.18 in favor of the model_selection module into which all the refactored classes and functions are moved. Also note that the interface of the new CV iterators are different from that of this module. This module will be removed in 0.20.\n",
      "  \"This module will be removed in 0.20.\", DeprecationWarning)\n",
      "/Users/Chenjiayue/anaconda/lib/python3.6/site-packages/bokeh/core/json_encoder.py:52: DeprecationWarning: parsing timezone aware datetimes is deprecated; this will raise an error in the future\n",
      "  NP_EPOCH = np.datetime64('1970-01-01T00:00:00Z')\n"
     ]
    }
   ],
   "source": [
    "import os\n",
    "import numpy as np\n",
    "import pandas as pd\n",
    "from flask import Flask, render_template, request, redirect\n",
    "import matplotlib\n",
    "import matplotlib.pyplot as plt\n",
    "import sklearn.cross_validation\n",
    "import requests\n",
    "from fbprophet import Prophet\n",
    "import datetime\n",
    "from pandas.tseries.holiday import USFederalHolidayCalendar\n",
    "\n",
    "import bokeh\n",
    "from bokeh.plotting import figure\n",
    "from bokeh.io import show,output_notebook\n",
    "from bokeh.embed import components\n",
    "from bokeh.models import HoverTool\n",
    "bv = bokeh.__version__"
   ]
  },
  {
   "cell_type": "code",
   "execution_count": 2,
   "metadata": {
    "collapsed": true
   },
   "outputs": [],
   "source": [
    "app = Flask(__name__)\n",
    "app.vars={}"
   ]
  },
  {
   "cell_type": "code",
   "execution_count": 3,
   "metadata": {
    "collapsed": true
   },
   "outputs": [],
   "source": [
    "@app.route('/')\n",
    "def main():\n",
    "    return redirect('/index')"
   ]
  },
  {
   "cell_type": "code",
   "execution_count": 4,
   "metadata": {
    "collapsed": true
   },
   "outputs": [],
   "source": [
    "@app.route('/index',methods=['GET','POST'])\n",
    "def index():\n",
    "    if request.method == 'GET':\n",
    "        return render_template('index.html')\n",
    "    else:\n",
    "        app.vars['start_date'] = request.form['start_date']\n",
    "        #app.vars['select'] = [selection[i] for i in range(3) if selection[i] in request.form.values()]\n",
    "        return redirect('/graph')"
   ]
  },
  {
   "cell_type": "code",
   "execution_count": null,
   "metadata": {
    "collapsed": true
   },
   "outputs": [],
   "source": [
    "#get data from local store_info.csv\n",
    "raw_df = pd.read_csv('store_info.csv')\n",
    "raw_df['date'] = raw_df['date'].apply(lambda x: datetime.datetime.strptime(x, '%Y-%m-%d'))\n",
    "start_date = datetime.datetime.strptime(app.vars['start_date'],'%Y-%m-%d')\n",
    "df = raw_df[raw_df['date'] < start_date]\n",
    "\n",
    "#create holiday calendar for prophet\n",
    "cal = USFederalHolidayCalendar()\n",
    "holidays = cal.holidays(start='2014-01-31', end='2015-12-09').to_pydatetime()\n",
    "holiday = pd.DataFrame(holidays)\n",
    "holiday.columns = ['ds']\n",
    "holiday['holiday'] = np.array('federal_holiday')"
   ]
  },
  {
   "cell_type": "code",
   "execution_count": null,
   "metadata": {
    "collapsed": true
   },
   "outputs": [],
   "source": [
    "@app.route('/graph', methods=['GET', 'POST'])\n",
    "def graph(df, holiday):\n",
    "    \n",
    "    #predict using prophet and plot graphs\n",
    "    def prophet_predict(df,start_date=start_date):\n",
    "        df.columns = ['ds','y']\n",
    "        model = Prophet(interval_width = 0.80, holidays = holiday,yearly_seasonality=True, daily_seasonality=True )\n",
    "        model.fit(df)\n",
    "        future_dates = model.make_future_dataframe(periods = 14)\n",
    "        forecast = model.predict(future_dates)\n",
    "        pred = forecast[['ds','yhat']]\n",
    "        pred.columns = ['date','prediction']\n",
    "        mask = pred['date'] > start_date\n",
    "        new_pred = pred.loc[mask]\n",
    "        return new_pred\n",
    "    \n",
    "\n",
    "    def bokeh_plot(pred,item,color):\n",
    "        hover = HoverTool(tooltips = [(\"Value\", \"$y{int}\")],  mode='vline')\n",
    "        tools = [hover]\n",
    "        p = figure(plot_width=800, plot_height=500,\n",
    "               title=\"Two-Week Projection for {} start from {}\".format(item, app.vars['start_date']), x_axis_type=\"datetime\",tools=tools)\n",
    "        p.line(pred['date'], pred['prediction'], line_width=3,\n",
    "               line_color=color, legend=item)\n",
    "        p.xaxis.axis_label = \"Date\"\n",
    "        p.yaxis.axis_label = \"Projection\"\n",
    "        p.xaxis.axis_label_text_font_style = 'bold'\n",
    "        p.yaxis.axis_label_text_font_style = 'bold'\n",
    "        p.xaxis.bounds = (pred.date.iloc[-1], pred.date.iloc[0])\n",
    "        script, div = components(p)\n",
    "        return script, div\n",
    "\n",
    "\n",
    "    #if 'Net Sales' in app.vars['select']:\n",
    "    sales_df = df[['date','Net_Sales']]\n",
    "    pred = prophet_predict(sales_df)\n",
    "    script_sales, div_sales = bokeh_plot(pred,'Net Sales',\"#658b33\")\n",
    "        \n",
    "    #if 'Transactions' in app.vars['select']:\n",
    "    trans_df = df[['date','Trans']]\n",
    "    pred = prophet_predict(trans_df)\n",
    "    script_trans, div_trans = bokeh_plot(pred,'Transactions',\"#949150\")\n",
    "        \n",
    "    #if 'Visits' in app.vars['select']:\n",
    "    Visits_df = df[['date','Visits']]\n",
    "    pred = prophet_predict(Visits_df)\n",
    "    script_visits, div_visits = bokeh_plot(pred,'Visits',\"#dbc69d\")\n",
    "\n",
    "    return render_template('graph.html', bv=bv, period=app.vars['start_date'], \n",
    "                           script_sales=script_sales, div_sales=div_sales,\n",
    "                           script_trans=script_trans, div_trans=div_trans,\n",
    "                           script_visits=script_visits,div_visits=div_visits\n",
    "                          )"
   ]
  },
  {
   "cell_type": "code",
   "execution_count": null,
   "metadata": {},
   "outputs": [
    {
     "name": "stderr",
     "output_type": "stream",
     "text": [
      "INFO:werkzeug: * Running on http://0.0.0.0:5000/ (Press CTRL+C to quit)\n",
      "INFO:werkzeug:127.0.0.1 - - [01/Nov/2018 12:45:30] \"GET / HTTP/1.1\" 302 -\n",
      "INFO:werkzeug:127.0.0.1 - - [01/Nov/2018 12:45:30] \"GET /index HTTP/1.1\" 200 -\n",
      "INFO:werkzeug:127.0.0.1 - - [01/Nov/2018 12:45:30] \"GET /static/style.css HTTP/1.1\" 200 -\n",
      "INFO:werkzeug:127.0.0.1 - - [01/Nov/2018 12:45:35] \"POST /index HTTP/1.1\" 302 -\n",
      "/Users/Chenjiayue/anaconda/lib/python3.6/site-packages/bokeh/core/json_encoder.py:73: FutureWarning: pandas.tslib is deprecated and will be removed in a future version.\n",
      "You can access Timestamp as pandas.Timestamp\n",
      "  if pd and isinstance(obj, pd.tslib.Timestamp):\n",
      "INFO:werkzeug:127.0.0.1 - - [01/Nov/2018 12:45:46] \"GET /graph HTTP/1.1\" 200 -\n",
      "INFO:werkzeug:127.0.0.1 - - [01/Nov/2018 13:03:59] \"GET / HTTP/1.1\" 302 -\n",
      "INFO:werkzeug:127.0.0.1 - - [01/Nov/2018 13:03:59] \"GET /index HTTP/1.1\" 200 -\n",
      "INFO:werkzeug:127.0.0.1 - - [01/Nov/2018 13:05:22] \"POST /index HTTP/1.1\" 302 -\n",
      "INFO:werkzeug:127.0.0.1 - - [01/Nov/2018 13:05:33] \"GET /graph HTTP/1.1\" 200 -\n",
      "INFO:werkzeug:127.0.0.1 - - [01/Nov/2018 13:07:28] \"POST /index HTTP/1.1\" 302 -\n",
      "INFO:werkzeug:127.0.0.1 - - [01/Nov/2018 13:07:38] \"GET /graph HTTP/1.1\" 200 -\n"
     ]
    }
   ],
   "source": [
    "if __name__ == '__main__':\n",
    "    port = int(os.environ.get(\"PORT\", 5000))\n",
    "    app.run(host='0.0.0.0', port=port)\n",
    "    #app.run(debug=True)"
   ]
  },
  {
   "cell_type": "code",
   "execution_count": null,
   "metadata": {
    "collapsed": true
   },
   "outputs": [],
   "source": []
  }
 ],
 "metadata": {
  "kernelspec": {
   "display_name": "Python 3",
   "language": "python",
   "name": "python3"
  },
  "language_info": {
   "codemirror_mode": {
    "name": "ipython",
    "version": 3
   },
   "file_extension": ".py",
   "mimetype": "text/x-python",
   "name": "python",
   "nbconvert_exporter": "python",
   "pygments_lexer": "ipython3",
   "version": "3.6.1"
  }
 },
 "nbformat": 4,
 "nbformat_minor": 2
}
